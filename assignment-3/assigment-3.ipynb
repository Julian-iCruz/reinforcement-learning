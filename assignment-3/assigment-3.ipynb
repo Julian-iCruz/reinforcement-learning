{
 "cells": [
  {
   "cell_type": "code",
   "execution_count": 1,
   "metadata": {},
   "outputs": [],
   "source": [
    "from value_iteration import ValueIteration"
   ]
  },
  {
   "cell_type": "code",
   "execution_count": 1,
   "metadata": {},
   "outputs": [],
   "source": [
    "class ValueIteration:\n",
    "    def __init__(self, mdp, discount=0.9, iterations=100):\n",
    "        self.mdp = mdp\n",
    "        self.discount = discount\n",
    "        self.iterations = iterations\n",
    "        self.values = {}\n",
    "\n",
    "    def run_value_iteration(self):\n",
    "        for i in range(self.iterations):\n",
    "            updated_values = {}\n",
    "            for state in self.mdp.get_all_states():\n",
    "                if self.mdp.is_terminal(state):\n",
    "                    updated_values[state] = self.mdp.get_reward(state)\n",
    "                else:\n",
    "                    updated_values[state] = max(\n",
    "                        [\n",
    "                            self.compute_qvalue_from_values(state, action)\n",
    "                            for action in self.mdp.get_possible_actions(state)\n",
    "                        ]\n",
    "                    )\n",
    "            self.values = updated_values\n",
    "\n",
    "    def get_value(self, state):\n",
    "        if state in self.values:\n",
    "            return self.values[state]\n",
    "        else:\n",
    "            return 0\n",
    "\n",
    "    def compute_qvalue_from_values(self, state, action):\n",
    "        q_value = 0\n",
    "        for next_state, probability in self.mdp.get_next_states(state, action).items():\n",
    "            q_value += probability * (\n",
    "                self.mdp.get_reward(state, action, next_state)\n",
    "                + self.discount * self.get_value(next_state)\n",
    "            )\n",
    "        return q_value\n",
    "\n",
    "    def compute_action_from_values(self, state):\n",
    "        if self.mdp.is_terminal(state):\n",
    "            return None\n",
    "        else:\n",
    "            actions = self.mdp.get_possible_actions(state)\n",
    "            best_value, best_action = max(\n",
    "                [\n",
    "                    (self.compute_qvalue_from_values(state, action), action)\n",
    "                    for action in actions\n",
    "                ]\n",
    "            )\n",
    "            return best_action\n",
    "\n",
    "    def get_action(self, state):\n",
    "        return self.compute_action_from_values(state)\n",
    "\n",
    "    def get_qvalue(self, state, action):\n",
    "        return self.compute_qvalue_from_values(state, action)\n",
    "\n",
    "    def get_policy(self, state):\n",
    "        if self.mdp.is_terminal(state):\n",
    "            return None\n",
    "        else:\n",
    "            return self.get_action(state)\n"
   ]
  },
  {
   "cell_type": "code",
   "execution_count": 2,
   "metadata": {},
   "outputs": [
    {
     "ename": "AttributeError",
     "evalue": "'list' object has no attribute 'get_all_states'",
     "output_type": "error",
     "traceback": [
      "\u001b[0;31m---------------------------------------------------------------------------\u001b[0m",
      "\u001b[0;31mAttributeError\u001b[0m                            Traceback (most recent call last)",
      "Cell \u001b[0;32mIn[2], line 6\u001b[0m\n\u001b[1;32m      3\u001b[0m iterations \u001b[39m=\u001b[39m \u001b[39m10\u001b[39m\n\u001b[1;32m      5\u001b[0m value \u001b[39m=\u001b[39m ValueIteration(mdp)\n\u001b[0;32m----> 6\u001b[0m value\u001b[39m.\u001b[39;49mrun_value_iteration()\n",
      "Cell \u001b[0;32mIn[1], line 11\u001b[0m, in \u001b[0;36mValueIteration.run_value_iteration\u001b[0;34m(self)\u001b[0m\n\u001b[1;32m      9\u001b[0m \u001b[39mfor\u001b[39;00m i \u001b[39min\u001b[39;00m \u001b[39mrange\u001b[39m(\u001b[39mself\u001b[39m\u001b[39m.\u001b[39miterations):\n\u001b[1;32m     10\u001b[0m     updated_values \u001b[39m=\u001b[39m {}\n\u001b[0;32m---> 11\u001b[0m     \u001b[39mfor\u001b[39;00m state \u001b[39min\u001b[39;00m \u001b[39mself\u001b[39;49m\u001b[39m.\u001b[39;49mmdp\u001b[39m.\u001b[39;49mget_all_states():\n\u001b[1;32m     12\u001b[0m         \u001b[39mif\u001b[39;00m \u001b[39mself\u001b[39m\u001b[39m.\u001b[39mmdp\u001b[39m.\u001b[39mis_terminal(state):\n\u001b[1;32m     13\u001b[0m             updated_values[state] \u001b[39m=\u001b[39m \u001b[39mself\u001b[39m\u001b[39m.\u001b[39mmdp\u001b[39m.\u001b[39mget_reward(state)\n",
      "\u001b[0;31mAttributeError\u001b[0m: 'list' object has no attribute 'get_all_states'"
     ]
    }
   ],
   "source": [
    "mdp = [0,0,0,1]\n",
    "discount = 0.9\n",
    "iterations = 10\n",
    "\n",
    "value = ValueIteration(mdp)\n",
    "value.run_value_iteration()"
   ]
  },
  {
   "cell_type": "code",
   "execution_count": 12,
   "metadata": {},
   "outputs": [
    {
     "name": "stdout",
     "output_type": "stream",
     "text": [
      "Iteration|0|1|2|3|Maximum difference\n"
     ]
    },
    {
     "ename": "IndexError",
     "evalue": "list index out of range",
     "output_type": "error",
     "traceback": [
      "\u001b[0;31m---------------------------------------------------------------------------\u001b[0m",
      "\u001b[0;31mIndexError\u001b[0m                                Traceback (most recent call last)",
      "Cell \u001b[0;32mIn[12], line 26\u001b[0m\n\u001b[1;32m     23\u001b[0m \u001b[39mprint\u001b[39m(\u001b[39m'\u001b[39m\u001b[39mIteration\u001b[39m\u001b[39m'\u001b[39m, \u001b[39m'\u001b[39m\u001b[39m0\u001b[39m\u001b[39m'\u001b[39m, \u001b[39m'\u001b[39m\u001b[39m1\u001b[39m\u001b[39m'\u001b[39m, \u001b[39m'\u001b[39m\u001b[39m2\u001b[39m\u001b[39m'\u001b[39m, \u001b[39m'\u001b[39m\u001b[39m3\u001b[39m\u001b[39m'\u001b[39m, \u001b[39m'\u001b[39m\u001b[39mMaximum difference\u001b[39m\u001b[39m'\u001b[39m, sep\u001b[39m=\u001b[39m\u001b[39m\"\u001b[39m\u001b[39m|\u001b[39m\u001b[39m\"\u001b[39m)\n\u001b[1;32m     25\u001b[0m \u001b[39mfor\u001b[39;00m time \u001b[39min\u001b[39;00m \u001b[39mrange\u001b[39m(\u001b[39m0\u001b[39m, \u001b[39m30\u001b[39m):\n\u001b[0;32m---> 26\u001b[0m     \u001b[39mprint\u001b[39m(time, V[\u001b[39m0\u001b[39m], V[\u001b[39m1\u001b[39m], V[\u001b[39m2\u001b[39m], V[\u001b[39m3\u001b[39;49m], max_diff, sep\u001b[39m=\u001b[39m\u001b[39m\"\u001b[39m\u001b[39m|\u001b[39m\u001b[39m\"\u001b[39m)\n\u001b[1;32m     27\u001b[0m     Vnew \u001b[39m=\u001b[39m [\u001b[39m-\u001b[39m\u001b[39m1e9\u001b[39m, \u001b[39m-\u001b[39m\u001b[39m1e9\u001b[39m, \u001b[39m-\u001b[39m\u001b[39m1e9\u001b[39m,\u001b[39m10\u001b[39m]\n\u001b[1;32m     28\u001b[0m     \u001b[39mfor\u001b[39;00m i \u001b[39min\u001b[39;00m \u001b[39mrange\u001b[39m(\u001b[39m3\u001b[39m):\n",
      "\u001b[0;31mIndexError\u001b[0m: list index out of range"
     ]
    }
   ],
   "source": [
    "nos = 4  # no of states\n",
    "A = ['l', 'r']  # actions\n",
    "noa = 2\n",
    "\n",
    "# R [from state][action]\n",
    "R = [[-1, -1], [-1, -1], [-1, -1]]\n",
    "\n",
    "# P [from state] [to state] [action]\n",
    "P = [\n",
    "    [[0.8, 0.2], [0.2, 0.8], [0, 0], [0, 0]],\n",
    "    [[0.8, 0.2], [0, 0], [0.2, 0.8], [0, 0]],\n",
    "    [[0, 0], [0.8, 0.2], [0, 0], [0.2, 0.8]],\n",
    "]\n",
    "\n",
    "delta = 0.01\n",
    "gamma = 0.9\n",
    "max_diff = 0\n",
    "\n",
    "V = [[0,-100, -100, -100, 0],\n",
    "    [1,0, 0, 0, 10],\n",
    "    [0,-100, -100, -100, 0]]  # utilities of each state\n",
    "\n",
    "print('Iteration', '0', '1', '2', '3', 'Maximum difference', sep=\"|\")\n",
    "\n",
    "for time in range(0, 30):\n",
    "    print(time, V[0], V[1], V[2], V[3], max_diff, sep=\"|\")\n",
    "    Vnew = [[0,-100, -100, -100, 0],\n",
    "    [1,0, 0, 0, 10],\n",
    "    [0,-100, -100, -100, 0]]\n",
    "    for i in range(3):\n",
    "        for a in range(noa):\n",
    "            cur_val = 0\n",
    "            for j in range(nos):\n",
    "                cur_val += P[i][j][a]*V[j]\n",
    "            cur_val *= gamma\n",
    "            cur_val += R[i][a]\n",
    "            Vnew[i] = max(Vnew[i], cur_val)\n",
    "    max_diff = 0\n",
    "    for i in range(4):\n",
    "        max_diff = max(max_diff, abs(V[i]-Vnew[i]))\n",
    "    V = Vnew\n",
    "    if(max_diff < delta):\n",
    "        break\n",
    "\n",
    "# one final iteration to determine the policy\n",
    "Vnew = [-1e9, -1e9, -1e9, 10]\n",
    "policy = ['NA', 'NA', 'NA', 'NA']\n",
    "for i in range(3):\n",
    "    for a in range(noa):\n",
    "        cur_val = 0\n",
    "        for j in range(nos):\n",
    "            cur_val += P[i][j][a]*V[j]\n",
    "        cur_val *= gamma\n",
    "        cur_val += R[i][a]\n",
    "        if(Vnew[i] < cur_val):\n",
    "            policy[i] = A[a]\n",
    "            Vnew[i] = max(Vnew[i], cur_val)\n",
    "print(\"The policy is:\", policy)"
   ]
  }
 ],
 "metadata": {
  "kernelspec": {
   "display_name": "env",
   "language": "python",
   "name": "python3"
  },
  "language_info": {
   "codemirror_mode": {
    "name": "ipython",
    "version": 3
   },
   "file_extension": ".py",
   "mimetype": "text/x-python",
   "name": "python",
   "nbconvert_exporter": "python",
   "pygments_lexer": "ipython3",
   "version": "3.8.10"
  },
  "orig_nbformat": 4,
  "vscode": {
   "interpreter": {
    "hash": "726f1a46f20428c6a1b8e03ee675701fd4ca8559738bd3b59a8fe01855fcc558"
   }
  }
 },
 "nbformat": 4,
 "nbformat_minor": 2
}
