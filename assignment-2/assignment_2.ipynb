{
 "cells": [
  {
   "attachments": {},
   "cell_type": "markdown",
   "metadata": {},
   "source": [
    "# Task 1"
   ]
  },
  {
   "cell_type": "code",
   "execution_count": 1,
   "metadata": {},
   "outputs": [],
   "source": [
    "# Creamos la clase Environment\n",
    "class Environment:\n",
    "\n",
    "    # Constructor\n",
    "    def __init__(self, board, dimensions):\n",
    "        self.board = board\n",
    "        self.dimensions = dimensions\n",
    "        self.current_state = (0,0)\n",
    "\n",
    "    # Retorna el estado actual\n",
    "    def get_current_state(self):\n",
    "        return self.current_state\n",
    "\n",
    "    # Retorna las acciones disponibles para cada estado\n",
    "    def get_possible_actions(self, state):\n",
    "        possible_actions = []\n",
    "        x, y = state\n",
    "        if x > 0 and self.board[x-1][y] != '*':\n",
    "            possible_actions.append('up')\n",
    "        if x < self.dimensions[0]-1 and self.board[x+1][y] != '*':\n",
    "            possible_actions.append('down')\n",
    "        if y > 0 and self.board[x][y-1] != '*':\n",
    "            possible_actions.append('left')\n",
    "        if y < self.dimensions[1]-1 and self.board[x][y+1] != '*':\n",
    "            possible_actions.append('right')\n",
    "        return possible_actions\n",
    "\n",
    "    # Ejecuta la acción y retorna la recompensa y el nuevo estado\n",
    "    def do_action(self, action):\n",
    "        x, y = self.current_state\n",
    "        if action == 'up':\n",
    "            x = x - 1\n",
    "        elif action == 'down':\n",
    "            x = x + 1\n",
    "        elif action == 'left':\n",
    "            y = y - 1\n",
    "        elif action == 'right':\n",
    "            y = y + 1\n",
    "        reward = self.board[x][y]\n",
    "        self.current_state = (x, y)\n",
    "        return reward, self.current_state\n",
    "\n",
    "    # Restablece el ambiente a su estado inicial\n",
    "    def reset(self):\n",
    "        self.current_state = (0,0)\n",
    "\n",
    "    # Verifica si el estado actual es terminal\n",
    "    def is_terminal(self):\n",
    "        x, y = self.current_state\n",
    "        return self.board[x][y] == 1"
   ]
  },
  {
   "cell_type": "code",
   "execution_count": 11,
   "metadata": {},
   "outputs": [
    {
     "data": {
      "text/plain": [
       "[[' ', ' ', ' ', ' '],\n",
       " [' ', '*', ' ', 1],\n",
       " [' ', ' ', ' ', -1],\n",
       " [' ', ' ', ' ', ' ']]"
      ]
     },
     "execution_count": 11,
     "metadata": {},
     "output_type": "execute_result"
    }
   ],
   "source": [
    "board = [[' ',' ',' ',' '],\n",
    "        [' ','*',' ',1],\n",
    "        [' ',' ',' ',-1],\n",
    "        [' ',' ',' ',' ']]\n",
    "        \n",
    "grid = Environment(board,[len(board),len(board[0])])\n",
    "grid.board"
   ]
  },
  {
   "cell_type": "code",
   "execution_count": 12,
   "metadata": {},
   "outputs": [
    {
     "name": "stdout",
     "output_type": "stream",
     "text": [
      "(0, 0)\n",
      "['down', 'right']\n",
      "(' ', (0, 1)) \n",
      "\n",
      "False\n",
      "(0, 1)\n",
      "['left', 'right']\n",
      "(' ', (0, 2)) \n",
      "\n",
      "(0, 2)\n",
      "['down', 'left', 'right']\n",
      "(' ', (0, 3)) \n",
      "\n",
      "(0, 3)\n",
      "['down', 'left']\n",
      "(1, (1, 3)) \n",
      "\n"
     ]
    }
   ],
   "source": [
    "current_state = grid.get_current_state()\n",
    "print(current_state)\n",
    "print(grid.get_possible_actions([0,0]))\n",
    "print(grid.do_action('right'))\n",
    "print(grid.is_terminal()'\\n')\n",
    "\n",
    "current_state = grid.get_current_state()\n",
    "print(current_state)\n",
    "print(grid.get_possible_actions(current_state))\n",
    "print(grid.do_action('right'))\n",
    "print(grid.is_terminal()'\\n')\n",
    "\n",
    "current_state = grid.get_current_state()\n",
    "print(current_state)\n",
    "print(grid.get_possible_actions(current_state))\n",
    "print(grid.do_action('right'))\n",
    "print(grid.is_terminal()'\\n')\n",
    "\n",
    "current_state = grid.get_current_state()\n",
    "print(current_state)\n",
    "print(grid.get_possible_actions(current_state))\n",
    "print(grid.do_action('down'),'\\n')"
   ]
  },
  {
   "cell_type": "code",
   "execution_count": null,
   "metadata": {},
   "outputs": [],
   "source": [
    "class GridWorld:\n",
    "    def __init__(self, dimensions):\n",
    "        self.dimensions = dimensions\n",
    "        self.board = [[0 for _ in range(dimensions[1])] for _ in range(dimensions[0])]\n",
    "        self.board[-1][-1] = 1  # Estado objetivo\n",
    "        self.board[0][0] = 0  # Estado inicial\n",
    "        self.current_state = (0, 0)\n",
    "\n",
    "    def get_current_state(self):\n",
    "        return self.current_state\n",
    "\n",
    "    def get_possible_actions(self, state):\n",
    "        actions = [\"up\", \"down\", \"left\", \"right\"]\n",
    "        i, j = state\n",
    "\n",
    "        if i == 0:\n",
    "            actions.remove(\"up\")\n",
    "        if i == self.dimensions[0] - 1:\n",
    "            actions.remove(\"down\")\n",
    "        if j == 0:\n",
    "            actions.remove(\"left\")\n",
    "        if j == self.dimensions[1] - 1:\n",
    "            actions.remove(\"right\")\n",
    "\n",
    "        return actions\n",
    "\n",
    "    def do_action(self, action):\n",
    "        i, j = self.current_state\n",
    "        reward = -1\n",
    "\n",
    "        if action == \"up\":\n",
    "            next_state = (i - 1, j)\n",
    "        elif action == \"down\":\n",
    "            next_state = (i + 1, j)\n",
    "        elif action == \"left\":\n",
    "            next_state = (i, j - 1)\n",
    "        elif action == \"right\":\n",
    "            next_state = (i, j + 1)\n",
    "\n",
    "        self.current_state = next_state\n",
    "\n",
    "        i, j = self.current_state\n",
    "        reward = self.board[i][j]\n",
    "        if reward == -1:\n",
    "            self.current_state = (0, 0)\n",
    "\n",
    "        return reward, self.current_state\n",
    "\n",
    "    def reset(self):\n",
    "        self.current_state = (0, 0)\n",
    "\n",
    "    def is_terminal(self):\n",
    "        return self.board[self.current_state] == 1"
   ]
  },
  {
   "attachments": {},
   "cell_type": "markdown",
   "metadata": {},
   "source": [
    "# Task 3\n",
    "\n",
    "Una empresa de transporte de pasajeros por carretera, que se enfrenta al desafío de maximizar sus beneficios mientras se asegura de que sus clientes lleguen a su destino a tiempo.\n",
    "\n",
    "- ***Estado:*** \n",
    "Número de pasajeros, Estado de la carretera, Posición de la empresa, Estado del tiempo\n",
    "\n",
    "- ***Acción:*** \n",
    "Aumentar el número de vehículos, Reducir el número de vehículos, Ajustar los horarios, Utilizar vías alternativas, Cambiar el precio\n",
    "\n",
    "- ***Recompensa:*** \n",
    "Máximizar los beneficios, Asegurar que los clientes lleguen a tiempo"
   ]
  }
 ],
 "metadata": {
  "kernelspec": {
   "display_name": "env",
   "language": "python",
   "name": "python3"
  },
  "language_info": {
   "codemirror_mode": {
    "name": "ipython",
    "version": 3
   },
   "file_extension": ".py",
   "mimetype": "text/x-python",
   "name": "python",
   "nbconvert_exporter": "python",
   "pygments_lexer": "ipython3",
   "version": "3.8.10"
  },
  "orig_nbformat": 4,
  "vscode": {
   "interpreter": {
    "hash": "7f9eb466adee6552d27410fbd75188e2171a7431cedc07ff03b6d0e205018fd3"
   }
  }
 },
 "nbformat": 4,
 "nbformat_minor": 2
}
