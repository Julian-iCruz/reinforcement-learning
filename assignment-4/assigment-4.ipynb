{
 "cells": [
  {
   "cell_type": "code",
   "execution_count": 1,
   "metadata": {},
   "outputs": [],
   "source": [
    "from ReinforcementLearning.GridWorld import GridWorld\n",
    "import numpy as np\n",
    "from copy import deepcopy"
   ]
  },
  {
   "cell_type": "code",
   "execution_count": 2,
   "metadata": {},
   "outputs": [
    {
     "name": "stdout",
     "output_type": "stream",
     "text": [
      "\n",
      "------------------\n",
      "|   |   |   | 1 |\n",
      "------------------\n",
      "|   | * |   | - |\n",
      "------------------\n",
      "|   |   |   |   |\n",
      "------------------\n",
      "\n",
      "Policy\n",
      "------------------\n",
      "| R | R | D | L |\n",
      "------------------\n",
      "| R | L | R | U |\n",
      "------------------\n",
      "| U | U | U | U |\n",
      "------------------\n",
      "\n",
      "{(0, 0): {'D': 0, 'R': 0}, (0, 1): {'D': 0, 'L': 0, 'R': 0}, (0, 2): {'D': 0, 'L': 0, 'R': 0}, (0, 3): {'D': 0, 'L': 0}, (1, 0): {'U': 0, 'D': 0, 'R': 0}, (1, 1): {'U': 0, 'D': 0, 'L': 0, 'R': 0}, (1, 2): {'U': 0, 'D': 0, 'L': 0, 'R': 0}, (1, 3): {'U': 0, 'D': 0, 'L': 0}, (2, 0): {'U': 0, 'R': 0}, (2, 1): {'U': 0, 'L': 0, 'R': 0}, (2, 2): {'U': 0, 'L': 0, 'R': 0}, (2, 3): {'U': 0, 'L': 0}}\n"
     ]
    }
   ],
   "source": [
    "env_vars = {\n",
    "    \"rewards\":{(0, 3): '1', (1, 3): '-1'},\n",
    "    \"walls\":{(1,1): '*'},\n",
    "    \"dimension\":(3,4),\n",
    "    \"initial_state\":(0,0)\n",
    "}\n",
    "\n",
    "enviroment = GridWorld(**env_vars)\n",
    "policy = enviroment.getRandomPolicy()\n",
    "enviroment.printBoard()\n",
    "print('\\nPolicy')\n",
    "enviroment.printPolicy(policy)\n",
    "print(enviroment.qtable)\n",
    "\n",
    "\n",
    "def monte_carlo(iteracion):\n",
    "    estimatedQ = deepcopy(enviroment.qtable)\n",
    "    return \n",
    "\n",
    "#x = list(map(monte_carlo,range(1001)))\n"
   ]
  }
 ],
 "metadata": {
  "kernelspec": {
   "display_name": "env",
   "language": "python",
   "name": "python3"
  },
  "language_info": {
   "name": "python",
   "version": "3.8.10"
  },
  "orig_nbformat": 4
 },
 "nbformat": 4,
 "nbformat_minor": 2
}
